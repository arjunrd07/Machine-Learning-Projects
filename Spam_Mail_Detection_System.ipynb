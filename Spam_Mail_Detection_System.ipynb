{
  "nbformat": 4,
  "nbformat_minor": 0,
  "metadata": {
    "colab": {
      "provenance": [],
      "gpuType": "T4"
    },
    "kernelspec": {
      "name": "python3",
      "display_name": "Python 3"
    },
    "language_info": {
      "name": "python"
    },
    "accelerator": "GPU"
  },
  "cells": [
    {
      "cell_type": "markdown",
      "source": [
        "#Program On Spam Mail Detection System\n"
      ],
      "metadata": {
        "id": "scw9hIR3nSFr"
      }
    },
    {
      "cell_type": "markdown",
      "source": [
        "Input Libraries"
      ],
      "metadata": {
        "id": "XhPHdXXGno4x"
      }
    },
    {
      "cell_type": "code",
      "execution_count": 1,
      "metadata": {
        "id": "dRmHItFPeEF_"
      },
      "outputs": [],
      "source": [
        "import numpy as np\n",
        "import pandas as pd\n",
        "from sklearn.model_selection import train_test_split\n",
        "from sklearn.feature_extraction.text import TfidfVectorizer\n",
        "from sklearn.metrics import r2_score"
      ]
    },
    {
      "cell_type": "code",
      "source": [
        "raw_mail_data = pd.read_csv('/content/mail_data.csv')\n",
        "print(raw_mail_data)"
      ],
      "metadata": {
        "colab": {
          "base_uri": "https://localhost:8080/"
        },
        "id": "Pi1amX67fBNd",
        "outputId": "cadbfb7d-5b79-4c09-ca1c-fcce8dff3c63"
      },
      "execution_count": 2,
      "outputs": [
        {
          "output_type": "stream",
          "name": "stdout",
          "text": [
            "     Category                                            Message\n",
            "0         ham  Go until jurong point, crazy.. Available only ...\n",
            "1         ham                      Ok lar... Joking wif u oni...\n",
            "2        spam  Free entry in 2 a wkly comp to win FA Cup fina...\n",
            "3         ham  U dun say so early hor... U c already then say...\n",
            "4         ham  Nah I don't think he goes to usf, he lives aro...\n",
            "...       ...                                                ...\n",
            "5567     spam  This is the 2nd time we have tried 2 contact u...\n",
            "5568      ham               Will ü b going to esplanade fr home?\n",
            "5569      ham  Pity, * was in mood for that. So...any other s...\n",
            "5570      ham  The guy did some bitching but I acted like i'd...\n",
            "5571      ham                         Rofl. Its true to its name\n",
            "\n",
            "[5572 rows x 2 columns]\n"
          ]
        }
      ]
    },
    {
      "cell_type": "code",
      "source": [
        "raw_mail_data['Category'].value_counts()"
      ],
      "metadata": {
        "colab": {
          "base_uri": "https://localhost:8080/"
        },
        "id": "QDcUuO6FfO7x",
        "outputId": "dff1c484-0479-4372-d19d-72ec61e6a4ba"
      },
      "execution_count": 3,
      "outputs": [
        {
          "output_type": "execute_result",
          "data": {
            "text/plain": [
              "ham     4825\n",
              "spam     747\n",
              "Name: Category, dtype: int64"
            ]
          },
          "metadata": {},
          "execution_count": 3
        }
      ]
    },
    {
      "cell_type": "code",
      "source": [
        "raw_mail_data.isnull().sum()"
      ],
      "metadata": {
        "colab": {
          "base_uri": "https://localhost:8080/"
        },
        "id": "jX63BZYMfimZ",
        "outputId": "c89954fc-802e-40a1-da8d-0147364ffe0f"
      },
      "execution_count": 4,
      "outputs": [
        {
          "output_type": "execute_result",
          "data": {
            "text/plain": [
              "Category    0\n",
              "Message     0\n",
              "dtype: int64"
            ]
          },
          "metadata": {},
          "execution_count": 4
        }
      ]
    },
    {
      "cell_type": "markdown",
      "source": [
        "Store a Empty String Where ever there is NULL"
      ],
      "metadata": {
        "id": "TzRBH9d8nvOU"
      }
    },
    {
      "cell_type": "code",
      "source": [
        "mail_data = raw_mail_data.where((pd.notnull(raw_mail_data)),'')"
      ],
      "metadata": {
        "id": "JDn78Jkdf_Rg"
      },
      "execution_count": 5,
      "outputs": []
    },
    {
      "cell_type": "code",
      "source": [
        "print(mail_data)\n",
        "print(mail_data.shape)"
      ],
      "metadata": {
        "colab": {
          "base_uri": "https://localhost:8080/"
        },
        "id": "hkJjNvxlgPAD",
        "outputId": "68cf7d7c-9ea5-47a1-b6dd-b293665fb38d"
      },
      "execution_count": 6,
      "outputs": [
        {
          "output_type": "stream",
          "name": "stdout",
          "text": [
            "     Category                                            Message\n",
            "0         ham  Go until jurong point, crazy.. Available only ...\n",
            "1         ham                      Ok lar... Joking wif u oni...\n",
            "2        spam  Free entry in 2 a wkly comp to win FA Cup fina...\n",
            "3         ham  U dun say so early hor... U c already then say...\n",
            "4         ham  Nah I don't think he goes to usf, he lives aro...\n",
            "...       ...                                                ...\n",
            "5567     spam  This is the 2nd time we have tried 2 contact u...\n",
            "5568      ham               Will ü b going to esplanade fr home?\n",
            "5569      ham  Pity, * was in mood for that. So...any other s...\n",
            "5570      ham  The guy did some bitching but I acted like i'd...\n",
            "5571      ham                         Rofl. Its true to its name\n",
            "\n",
            "[5572 rows x 2 columns]\n",
            "(5572, 2)\n"
          ]
        }
      ]
    },
    {
      "cell_type": "code",
      "source": [
        "X=mail_data['Message']\n",
        "Y=mail_data['Category']"
      ],
      "metadata": {
        "id": "3dPW9eJMgRzk"
      },
      "execution_count": 7,
      "outputs": []
    },
    {
      "cell_type": "markdown",
      "source": [
        "Using One Label Encoder On Independent variable(Y)"
      ],
      "metadata": {
        "id": "LihpPWMmoLIC"
      }
    },
    {
      "cell_type": "code",
      "source": [
        "from sklearn.preprocessing import LabelEncoder\n",
        "le = LabelEncoder()\n",
        "Y = le.fit_transform(Y)"
      ],
      "metadata": {
        "id": "Hfcpaj6phXgz"
      },
      "execution_count": 8,
      "outputs": []
    },
    {
      "cell_type": "code",
      "source": [
        "print(Y)"
      ],
      "metadata": {
        "colab": {
          "base_uri": "https://localhost:8080/"
        },
        "id": "EP2fs7Fnhdtp",
        "outputId": "fa13fa8b-c751-437c-f4dd-5055cef0dee8"
      },
      "execution_count": 9,
      "outputs": [
        {
          "output_type": "stream",
          "name": "stdout",
          "text": [
            "[0 0 1 ... 0 0 0]\n"
          ]
        }
      ]
    },
    {
      "cell_type": "markdown",
      "source": [
        "Ham--> 0\n",
        "\n",
        "Spam-->1"
      ],
      "metadata": {
        "id": "kBfVQeCbhgZC"
      }
    },
    {
      "cell_type": "markdown",
      "source": [
        "Using TfidVectorizer to convert text into vectors"
      ],
      "metadata": {
        "id": "SXZupisuoUu7"
      }
    },
    {
      "cell_type": "code",
      "source": [
        "feature_extraction = TfidfVectorizer(min_df= 1,stop_words='english', lowercase=True)\n",
        "X_transformed = feature_extraction.fit_transform(X)\n"
      ],
      "metadata": {
        "id": "TIzUzx4Uhetg"
      },
      "execution_count": 10,
      "outputs": []
    },
    {
      "cell_type": "code",
      "source": [
        "print(X_transformed)"
      ],
      "metadata": {
        "colab": {
          "base_uri": "https://localhost:8080/"
        },
        "id": "X1NdQvJfiv0E",
        "outputId": "e902de63-ab2d-49a9-bed5-719abbb0c64c"
      },
      "execution_count": 11,
      "outputs": [
        {
          "output_type": "stream",
          "name": "stdout",
          "text": [
            "  (0, 8079)\t0.1961033223643189\n",
            "  (0, 1061)\t0.35097479377088364\n",
            "  (0, 3511)\t0.16453831818791093\n",
            "  (0, 2003)\t0.29650492406235857\n",
            "  (0, 1713)\t0.3350433781715565\n",
            "  (0, 4370)\t0.29650492406235857\n",
            "  (0, 8281)\t0.23740715800944148\n",
            "  (0, 3551)\t0.19387866945820545\n",
            "  (0, 1715)\t0.29650492406235857\n",
            "  (0, 1281)\t0.26251769953088055\n",
            "  (0, 2278)\t0.27180581777101714\n",
            "  (0, 5775)\t0.27451666535585145\n",
            "  (0, 4244)\t0.35097479377088364\n",
            "  (1, 5399)\t0.5466243141314314\n",
            "  (1, 8187)\t0.43162957585464123\n",
            "  (1, 4212)\t0.5236804332035243\n",
            "  (1, 4406)\t0.4083258549263009\n",
            "  (1, 5373)\t0.2718944069420321\n",
            "  (2, 77)\t0.23775471426296338\n",
            "  (2, 1138)\t0.1708958200698438\n",
            "  (2, 6100)\t0.1708958200698438\n",
            "  (2, 7750)\t0.12585247610650566\n",
            "  (2, 7073)\t0.19910160498748308\n",
            "  (2, 6048)\t0.1809617113309815\n",
            "  (2, 6154)\t0.16925521015250053\n",
            "  :\t:\n",
            "  (5567, 464)\t0.2345392769367673\n",
            "  (5567, 5146)\t0.2445509910362817\n",
            "  (5567, 8256)\t0.1919079652601193\n",
            "  (5567, 2009)\t0.18662411374983587\n",
            "  (5567, 5930)\t0.1961944081157334\n",
            "  (5567, 6100)\t0.23094798261273555\n",
            "  (5568, 2917)\t0.6485991737677518\n",
            "  (5568, 3263)\t0.5597098620657655\n",
            "  (5568, 3480)\t0.3642369776828009\n",
            "  (5568, 3809)\t0.3652059777476414\n",
            "  (5569, 7213)\t0.6095307789831879\n",
            "  (5569, 5707)\t0.6095307789831879\n",
            "  (5569, 5018)\t0.5068968918274174\n",
            "  (5570, 1511)\t0.42657930865550353\n",
            "  (5570, 908)\t0.40721605986134385\n",
            "  (5570, 4063)\t0.35475111861632075\n",
            "  (5570, 3605)\t0.30408849117263737\n",
            "  (5570, 1749)\t0.35475111861632075\n",
            "  (5570, 3388)\t0.3451679596114425\n",
            "  (5570, 2542)\t0.23105123281877282\n",
            "  (5570, 4508)\t0.19998200231369734\n",
            "  (5570, 8125)\t0.23564264513684635\n",
            "  (5570, 3276)\t0.19998200231369734\n",
            "  (5571, 6362)\t0.7963273037972378\n",
            "  (5571, 7705)\t0.6048659564126764\n"
          ]
        }
      ]
    },
    {
      "cell_type": "markdown",
      "source": [
        "Initialization of Test and Train variables"
      ],
      "metadata": {
        "id": "9P7dKvVloqCO"
      }
    },
    {
      "cell_type": "code",
      "source": [
        "X_train, X_test, Y_train, Y_test = train_test_split(X_transformed, Y, test_size=0.2, random_state=1)\n"
      ],
      "metadata": {
        "id": "eEOzz44sjM6x"
      },
      "execution_count": 12,
      "outputs": []
    },
    {
      "cell_type": "code",
      "source": [
        "print(X_train)"
      ],
      "metadata": {
        "colab": {
          "base_uri": "https://localhost:8080/"
        },
        "id": "ac0tZQMjj7ns",
        "outputId": "92e16305-b38e-4c69-9f68-cdb778c66415"
      },
      "execution_count": 13,
      "outputs": [
        {
          "output_type": "stream",
          "name": "stdout",
          "text": [
            "  (0, 4283)\t0.48487282510615526\n",
            "  (0, 4318)\t0.3687065678122346\n",
            "  (0, 4914)\t0.3196112164370596\n",
            "  (0, 6702)\t0.41687082226677796\n",
            "  (0, 3757)\t0.26217469882512107\n",
            "  (0, 7603)\t0.35988477711192857\n",
            "  (0, 3085)\t0.3030346059192575\n",
            "  (0, 2659)\t0.250875667035199\n",
            "  (1, 4911)\t0.6638978749522264\n",
            "  (1, 2104)\t0.5120835941624456\n",
            "  (1, 3809)\t0.5449862422333149\n",
            "  (2, 4829)\t0.5403808849166483\n",
            "  (2, 7491)\t0.40108425189883035\n",
            "  (2, 3606)\t0.3622548138445088\n",
            "  (2, 7071)\t0.44301671673219123\n",
            "  (2, 6440)\t0.3164678124552665\n",
            "  (2, 3429)\t0.3456525485477342\n",
            "  (3, 3266)\t0.3069156818984929\n",
            "  (3, 6280)\t0.3069156818984929\n",
            "  (3, 4507)\t0.26916815666401295\n",
            "  (3, 921)\t0.25523666822365576\n",
            "  (3, 7355)\t0.26387165057473\n",
            "  (3, 1907)\t0.26387165057473\n",
            "  (3, 1329)\t0.21059424274191801\n",
            "  (3, 1899)\t0.2229984007066677\n",
            "  :\t:\n",
            "  (4454, 456)\t0.32210494875111606\n",
            "  (4454, 5177)\t0.2807333007363342\n",
            "  (4454, 8356)\t0.22878793693645458\n",
            "  (4454, 4553)\t0.2501093736375467\n",
            "  (4454, 7286)\t0.2416824890581772\n",
            "  (4455, 5614)\t0.29735592189188464\n",
            "  (4455, 7495)\t0.3223712820281242\n",
            "  (4455, 6151)\t0.28930277466030374\n",
            "  (4455, 421)\t0.272340561755645\n",
            "  (4455, 6452)\t0.2827228742701496\n",
            "  (4455, 307)\t0.2326921539976704\n",
            "  (4455, 3182)\t0.2827228742701496\n",
            "  (4455, 6618)\t0.22980344981637987\n",
            "  (4455, 975)\t0.25481880995261946\n",
            "  (4455, 4205)\t0.22712892748636884\n",
            "  (4455, 367)\t0.2062035470200041\n",
            "  (4455, 5053)\t0.1787464176529693\n",
            "  (4455, 4246)\t0.13456109527462448\n",
            "  (4455, 4847)\t0.18879301113246533\n",
            "  (4455, 2402)\t0.2375112400008734\n",
            "  (4455, 6256)\t0.17009120673827066\n",
            "  (4455, 7584)\t0.1642259739791058\n",
            "  (4455, 7433)\t0.16099191275072788\n",
            "  (4456, 1921)\t0.709462136182406\n",
            "  (4456, 6853)\t0.7047435542972332\n"
          ]
        }
      ]
    },
    {
      "cell_type": "code",
      "source": [
        "Y_train = Y_train.astype('int')\n",
        "Y_test = Y_test.astype('int')"
      ],
      "metadata": {
        "id": "wNZ74gxnjRMK"
      },
      "execution_count": 14,
      "outputs": []
    },
    {
      "cell_type": "code",
      "source": [
        "!pip install xgboost"
      ],
      "metadata": {
        "colab": {
          "base_uri": "https://localhost:8080/"
        },
        "id": "FlFVyzS1jX18",
        "outputId": "574e7630-0975-4413-b66f-6d584fa7792c"
      },
      "execution_count": 15,
      "outputs": [
        {
          "output_type": "stream",
          "name": "stdout",
          "text": [
            "Requirement already satisfied: xgboost in /usr/local/lib/python3.10/dist-packages (2.0.3)\n",
            "Requirement already satisfied: numpy in /usr/local/lib/python3.10/dist-packages (from xgboost) (1.25.2)\n",
            "Requirement already satisfied: scipy in /usr/local/lib/python3.10/dist-packages (from xgboost) (1.11.4)\n"
          ]
        }
      ]
    },
    {
      "cell_type": "markdown",
      "source": [
        "Model Training"
      ],
      "metadata": {
        "id": "Px-TYBZdo3xW"
      }
    },
    {
      "cell_type": "code",
      "source": [
        "from sklearn.linear_model import LinearRegression\n",
        "from sklearn.neighbors import KNeighborsRegressor\n",
        "from sklearn.tree import DecisionTreeRegressor\n",
        "from sklearn.ensemble import RandomForestRegressor, AdaBoostRegressor\n",
        "from sklearn.svm import SVR\n",
        "from xgboost import XGBRegressor"
      ],
      "metadata": {
        "id": "INdLXcTmjeJY"
      },
      "execution_count": 16,
      "outputs": []
    },
    {
      "cell_type": "code",
      "source": [
        "lr = LinearRegression()\n",
        "knn = KNeighborsRegressor()\n",
        "dt = DecisionTreeRegressor()\n",
        "rf = RandomForestRegressor(n_estimators = 25, max_depth = 15, random_state = 1)\n",
        "xgb = XGBRegressor()\n",
        "ada = AdaBoostRegressor()\n",
        "svr = SVR()\n",
        ""
      ],
      "metadata": {
        "id": "oxn4sQiHjtK-"
      },
      "execution_count": 17,
      "outputs": []
    },
    {
      "cell_type": "code",
      "source": [
        "lr.fit(X_train, Y_train)\n",
        "knn.fit(X_train, Y_train)\n",
        "dt.fit(X_train, Y_train)\n",
        "rf.fit(X_train, Y_train)\n",
        "xgb.fit(X_train, Y_train)\n",
        "ada.fit(X_train, Y_train)\n",
        "svr.fit(X_train, Y_train)"
      ],
      "metadata": {
        "colab": {
          "base_uri": "https://localhost:8080/",
          "height": 74
        },
        "id": "hdlIXJ8wjwPq",
        "outputId": "a92c6fe7-7ee1-468b-feb7-5d4e16aeb7cb"
      },
      "execution_count": 18,
      "outputs": [
        {
          "output_type": "execute_result",
          "data": {
            "text/plain": [
              "SVR()"
            ],
            "text/html": [
              "<style>#sk-container-id-1 {color: black;background-color: white;}#sk-container-id-1 pre{padding: 0;}#sk-container-id-1 div.sk-toggleable {background-color: white;}#sk-container-id-1 label.sk-toggleable__label {cursor: pointer;display: block;width: 100%;margin-bottom: 0;padding: 0.3em;box-sizing: border-box;text-align: center;}#sk-container-id-1 label.sk-toggleable__label-arrow:before {content: \"▸\";float: left;margin-right: 0.25em;color: #696969;}#sk-container-id-1 label.sk-toggleable__label-arrow:hover:before {color: black;}#sk-container-id-1 div.sk-estimator:hover label.sk-toggleable__label-arrow:before {color: black;}#sk-container-id-1 div.sk-toggleable__content {max-height: 0;max-width: 0;overflow: hidden;text-align: left;background-color: #f0f8ff;}#sk-container-id-1 div.sk-toggleable__content pre {margin: 0.2em;color: black;border-radius: 0.25em;background-color: #f0f8ff;}#sk-container-id-1 input.sk-toggleable__control:checked~div.sk-toggleable__content {max-height: 200px;max-width: 100%;overflow: auto;}#sk-container-id-1 input.sk-toggleable__control:checked~label.sk-toggleable__label-arrow:before {content: \"▾\";}#sk-container-id-1 div.sk-estimator input.sk-toggleable__control:checked~label.sk-toggleable__label {background-color: #d4ebff;}#sk-container-id-1 div.sk-label input.sk-toggleable__control:checked~label.sk-toggleable__label {background-color: #d4ebff;}#sk-container-id-1 input.sk-hidden--visually {border: 0;clip: rect(1px 1px 1px 1px);clip: rect(1px, 1px, 1px, 1px);height: 1px;margin: -1px;overflow: hidden;padding: 0;position: absolute;width: 1px;}#sk-container-id-1 div.sk-estimator {font-family: monospace;background-color: #f0f8ff;border: 1px dotted black;border-radius: 0.25em;box-sizing: border-box;margin-bottom: 0.5em;}#sk-container-id-1 div.sk-estimator:hover {background-color: #d4ebff;}#sk-container-id-1 div.sk-parallel-item::after {content: \"\";width: 100%;border-bottom: 1px solid gray;flex-grow: 1;}#sk-container-id-1 div.sk-label:hover label.sk-toggleable__label {background-color: #d4ebff;}#sk-container-id-1 div.sk-serial::before {content: \"\";position: absolute;border-left: 1px solid gray;box-sizing: border-box;top: 0;bottom: 0;left: 50%;z-index: 0;}#sk-container-id-1 div.sk-serial {display: flex;flex-direction: column;align-items: center;background-color: white;padding-right: 0.2em;padding-left: 0.2em;position: relative;}#sk-container-id-1 div.sk-item {position: relative;z-index: 1;}#sk-container-id-1 div.sk-parallel {display: flex;align-items: stretch;justify-content: center;background-color: white;position: relative;}#sk-container-id-1 div.sk-item::before, #sk-container-id-1 div.sk-parallel-item::before {content: \"\";position: absolute;border-left: 1px solid gray;box-sizing: border-box;top: 0;bottom: 0;left: 50%;z-index: -1;}#sk-container-id-1 div.sk-parallel-item {display: flex;flex-direction: column;z-index: 1;position: relative;background-color: white;}#sk-container-id-1 div.sk-parallel-item:first-child::after {align-self: flex-end;width: 50%;}#sk-container-id-1 div.sk-parallel-item:last-child::after {align-self: flex-start;width: 50%;}#sk-container-id-1 div.sk-parallel-item:only-child::after {width: 0;}#sk-container-id-1 div.sk-dashed-wrapped {border: 1px dashed gray;margin: 0 0.4em 0.5em 0.4em;box-sizing: border-box;padding-bottom: 0.4em;background-color: white;}#sk-container-id-1 div.sk-label label {font-family: monospace;font-weight: bold;display: inline-block;line-height: 1.2em;}#sk-container-id-1 div.sk-label-container {text-align: center;}#sk-container-id-1 div.sk-container {/* jupyter's `normalize.less` sets `[hidden] { display: none; }` but bootstrap.min.css set `[hidden] { display: none !important; }` so we also need the `!important` here to be able to override the default hidden behavior on the sphinx rendered scikit-learn.org. See: https://github.com/scikit-learn/scikit-learn/issues/21755 */display: inline-block !important;position: relative;}#sk-container-id-1 div.sk-text-repr-fallback {display: none;}</style><div id=\"sk-container-id-1\" class=\"sk-top-container\"><div class=\"sk-text-repr-fallback\"><pre>SVR()</pre><b>In a Jupyter environment, please rerun this cell to show the HTML representation or trust the notebook. <br />On GitHub, the HTML representation is unable to render, please try loading this page with nbviewer.org.</b></div><div class=\"sk-container\" hidden><div class=\"sk-item\"><div class=\"sk-estimator sk-toggleable\"><input class=\"sk-toggleable__control sk-hidden--visually\" id=\"sk-estimator-id-1\" type=\"checkbox\" checked><label for=\"sk-estimator-id-1\" class=\"sk-toggleable__label sk-toggleable__label-arrow\">SVR</label><div class=\"sk-toggleable__content\"><pre>SVR()</pre></div></div></div></div></div>"
            ]
          },
          "metadata": {},
          "execution_count": 18
        }
      ]
    },
    {
      "cell_type": "code",
      "source": [
        "lr_pred = lr.predict(X_test)\n",
        "knn_pred = knn.predict(X_test)\n",
        "dt_pred = dt.predict(X_test)\n",
        "rf_pred = rf.predict(X_test)\n",
        "xgb_pred = xgb.predict(X_test)\n",
        "ada_pred = ada.predict(X_test)\n",
        "svr_pred = svr.predict(X_test)"
      ],
      "metadata": {
        "id": "E5wvkQoyj0qT"
      },
      "execution_count": 19,
      "outputs": []
    },
    {
      "cell_type": "code",
      "source": [
        "lr_r2 = r2_score(Y_test, lr_pred)\n",
        "knn_r2 = r2_score(Y_test, knn_pred)\n",
        "dt_r2 = r2_score(Y_test, dt_pred)\n",
        "rf_r2 = r2_score(Y_test, rf_pred)\n",
        "xgb_r2 = r2_score(Y_test, xgb_pred)\n",
        "ada_r2 = r2_score(Y_test, ada_pred)\n",
        "svr_r2 = r2_score(Y_test, svr_pred)\n",
        "\n",
        "print(\"KNN R2 score: {:.2f}\".format(knn_r2 * 100))\n",
        "print(\"Decision tree R2 score: {:.2f}\".format(dt_r2 * 100))\n",
        "print(\"Random forest R2 score: {:.2f}\".format(rf_r2 * 100))\n",
        "print(\"XGBoost R2 score: {:.2f}\".format(xgb_r2 * 100))\n",
        "print(\"AdaBoost R2 score: {:.2f}\".format(ada_r2 * 100))\n",
        "print(\"SVR R2 score: {:.2f}\".format(svr_r2 * 100))\n",
        "print(\"Linear Regression R2 score: {:.2f}\".format(lr_r2 * 100))"
      ],
      "metadata": {
        "colab": {
          "base_uri": "https://localhost:8080/"
        },
        "id": "uDfSgrpakQxR",
        "outputId": "aa643c3b-7b48-4879-95d8-fedeb2d119b1"
      },
      "execution_count": 20,
      "outputs": [
        {
          "output_type": "stream",
          "name": "stdout",
          "text": [
            "KNN R2 score: 30.95\n",
            "Decision tree R2 score: 76.49\n",
            "Random forest R2 score: 76.38\n",
            "XGBoost R2 score: 82.75\n",
            "AdaBoost R2 score: -15.16\n",
            "SVR R2 score: 75.67\n",
            "Linear Regression R2 score: 79.72\n"
          ]
        }
      ]
    },
    {
      "cell_type": "markdown",
      "source": [
        "XGBoost Model Best Fit for this Data Among the Diffrent Regression model"
      ],
      "metadata": {
        "id": "UEwipjnFo_BL"
      }
    },
    {
      "cell_type": "code",
      "source": [
        "input_mail = [input(\"Give a Message: \")]\n",
        "input_data = feature_extraction.transform(input_mail)\n",
        "\n",
        "\n",
        "prediction = xgb.predict(input_data)\n",
        "print(prediction)\n",
        "\n",
        "\n",
        "if (round(prediction[0])==0):\n",
        "  print('Ham mail')\n",
        "\n",
        "else:\n",
        "  print('Spam mail')"
      ],
      "metadata": {
        "colab": {
          "base_uri": "https://localhost:8080/"
        },
        "id": "3uLa_0QAkw50",
        "outputId": "fb654788-6583-423c-ade6-daa06192b316"
      },
      "execution_count": 21,
      "outputs": [
        {
          "output_type": "stream",
          "name": "stdout",
          "text": [
            "Give a Message: WINNER!! As a valued network customer you have been selected to receivea Â£900 prize reward! To claim call 09061701461. Claim code KL341. Valid 12 hours only.\n",
            "[1.0039451]\n",
            "Spam mail\n"
          ]
        }
      ]
    }
  ]
}